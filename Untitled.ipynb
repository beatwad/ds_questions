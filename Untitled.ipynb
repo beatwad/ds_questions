{
 "cells": [
  {
   "cell_type": "code",
   "execution_count": 3,
   "metadata": {},
   "outputs": [],
   "source": [
    "import pandas as pd\n",
    "query = pd.read_csv('QueryResults.csv')"
   ]
  },
  {
   "cell_type": "code",
   "execution_count": 38,
   "metadata": {},
   "outputs": [],
   "source": [
    "query['Tags'].fillna('', inplace=True)"
   ]
  },
  {
   "cell_type": "code",
   "execution_count": 18,
   "metadata": {
    "scrolled": true
   },
   "outputs": [
    {
     "data": {
      "text/html": [
       "<div>\n",
       "<style scoped>\n",
       "    .dataframe tbody tr th:only-of-type {\n",
       "        vertical-align: middle;\n",
       "    }\n",
       "\n",
       "    .dataframe tbody tr th {\n",
       "        vertical-align: top;\n",
       "    }\n",
       "\n",
       "    .dataframe thead th {\n",
       "        text-align: right;\n",
       "    }\n",
       "</style>\n",
       "<table border=\"1\" class=\"dataframe\">\n",
       "  <thead>\n",
       "    <tr style=\"text-align: right;\">\n",
       "      <th></th>\n",
       "      <th>Id</th>\n",
       "      <th>PostTypeId</th>\n",
       "      <th>CreationDate</th>\n",
       "      <th>Score</th>\n",
       "      <th>ViewCount</th>\n",
       "      <th>Tags</th>\n",
       "      <th>AnswerCount</th>\n",
       "      <th>FavoriteCount</th>\n",
       "    </tr>\n",
       "  </thead>\n",
       "  <tbody>\n",
       "    <tr>\n",
       "      <th>0</th>\n",
       "      <td>54432</td>\n",
       "      <td>1</td>\n",
       "      <td>2019-06-25 06:46:58</td>\n",
       "      <td>0</td>\n",
       "      <td>44.0</td>\n",
       "      <td>neural-network,classification,regression</td>\n",
       "      <td>0.0</td>\n",
       "      <td>0.0</td>\n",
       "    </tr>\n",
       "    <tr>\n",
       "      <th>1</th>\n",
       "      <td>54433</td>\n",
       "      <td>1</td>\n",
       "      <td>2019-06-25 07:04:37</td>\n",
       "      <td>1</td>\n",
       "      <td>38.0</td>\n",
       "      <td>neural-network,predictive-modeling,correlation</td>\n",
       "      <td>1.0</td>\n",
       "      <td>0.0</td>\n",
       "    </tr>\n",
       "    <tr>\n",
       "      <th>2</th>\n",
       "      <td>54434</td>\n",
       "      <td>2</td>\n",
       "      <td>2019-06-25 07:10:30</td>\n",
       "      <td>1</td>\n",
       "      <td>0.0</td>\n",
       "      <td>NaN</td>\n",
       "      <td>0.0</td>\n",
       "      <td>0.0</td>\n",
       "    </tr>\n",
       "    <tr>\n",
       "      <th>3</th>\n",
       "      <td>54435</td>\n",
       "      <td>2</td>\n",
       "      <td>2019-06-25 07:11:14</td>\n",
       "      <td>0</td>\n",
       "      <td>0.0</td>\n",
       "      <td>NaN</td>\n",
       "      <td>0.0</td>\n",
       "      <td>0.0</td>\n",
       "    </tr>\n",
       "    <tr>\n",
       "      <th>4</th>\n",
       "      <td>54436</td>\n",
       "      <td>1</td>\n",
       "      <td>2019-06-25 07:29:41</td>\n",
       "      <td>0</td>\n",
       "      <td>1885.0</td>\n",
       "      <td>machine-learning,python,data,data-analysis,ana...</td>\n",
       "      <td>1.0</td>\n",
       "      <td>0.0</td>\n",
       "    </tr>\n",
       "  </tbody>\n",
       "</table>\n",
       "</div>"
      ],
      "text/plain": [
       "      Id  PostTypeId         CreationDate  Score  ViewCount  \\\n",
       "0  54432           1  2019-06-25 06:46:58      0       44.0   \n",
       "1  54433           1  2019-06-25 07:04:37      1       38.0   \n",
       "2  54434           2  2019-06-25 07:10:30      1        0.0   \n",
       "3  54435           2  2019-06-25 07:11:14      0        0.0   \n",
       "4  54436           1  2019-06-25 07:29:41      0     1885.0   \n",
       "\n",
       "                                                Tags  AnswerCount  \\\n",
       "0           neural-network,classification,regression          0.0   \n",
       "1     neural-network,predictive-modeling,correlation          1.0   \n",
       "2                                                NaN          0.0   \n",
       "3                                                NaN          0.0   \n",
       "4  machine-learning,python,data,data-analysis,ana...          1.0   \n",
       "\n",
       "   FavoriteCount  \n",
       "0            0.0  \n",
       "1            0.0  \n",
       "2            0.0  \n",
       "3            0.0  \n",
       "4            0.0  "
      ]
     },
     "execution_count": 18,
     "metadata": {},
     "output_type": "execute_result"
    }
   ],
   "source": [
    "query['Tags'] = query['Tags'].str.replace('><', ',')\n",
    "query['Tags'] = query['Tags'].str.replace('>', '')\n",
    "query['Tags'] = query['Tags'].str.replace('<', '')"
   ]
  },
  {
   "cell_type": "code",
   "execution_count": 39,
   "metadata": {},
   "outputs": [
    {
     "data": {
      "text/html": [
       "<div>\n",
       "<style scoped>\n",
       "    .dataframe tbody tr th:only-of-type {\n",
       "        vertical-align: middle;\n",
       "    }\n",
       "\n",
       "    .dataframe tbody tr th {\n",
       "        vertical-align: top;\n",
       "    }\n",
       "\n",
       "    .dataframe thead th {\n",
       "        text-align: right;\n",
       "    }\n",
       "</style>\n",
       "<table border=\"1\" class=\"dataframe\">\n",
       "  <thead>\n",
       "    <tr style=\"text-align: right;\">\n",
       "      <th></th>\n",
       "      <th>Id</th>\n",
       "      <th>PostTypeId</th>\n",
       "      <th>CreationDate</th>\n",
       "      <th>Score</th>\n",
       "      <th>ViewCount</th>\n",
       "      <th>Tags</th>\n",
       "      <th>AnswerCount</th>\n",
       "      <th>FavoriteCount</th>\n",
       "    </tr>\n",
       "  </thead>\n",
       "  <tbody>\n",
       "    <tr>\n",
       "      <th>0</th>\n",
       "      <td>54432</td>\n",
       "      <td>1</td>\n",
       "      <td>2019-06-25 06:46:58</td>\n",
       "      <td>0</td>\n",
       "      <td>44</td>\n",
       "      <td>neural-network,classification,regression</td>\n",
       "      <td>0</td>\n",
       "      <td>0</td>\n",
       "    </tr>\n",
       "    <tr>\n",
       "      <th>1</th>\n",
       "      <td>54433</td>\n",
       "      <td>1</td>\n",
       "      <td>2019-06-25 07:04:37</td>\n",
       "      <td>1</td>\n",
       "      <td>38</td>\n",
       "      <td>neural-network,predictive-modeling,correlation</td>\n",
       "      <td>1</td>\n",
       "      <td>0</td>\n",
       "    </tr>\n",
       "    <tr>\n",
       "      <th>2</th>\n",
       "      <td>54434</td>\n",
       "      <td>2</td>\n",
       "      <td>2019-06-25 07:10:30</td>\n",
       "      <td>1</td>\n",
       "      <td>0</td>\n",
       "      <td></td>\n",
       "      <td>0</td>\n",
       "      <td>0</td>\n",
       "    </tr>\n",
       "    <tr>\n",
       "      <th>3</th>\n",
       "      <td>54435</td>\n",
       "      <td>2</td>\n",
       "      <td>2019-06-25 07:11:14</td>\n",
       "      <td>0</td>\n",
       "      <td>0</td>\n",
       "      <td></td>\n",
       "      <td>0</td>\n",
       "      <td>0</td>\n",
       "    </tr>\n",
       "    <tr>\n",
       "      <th>4</th>\n",
       "      <td>54436</td>\n",
       "      <td>1</td>\n",
       "      <td>2019-06-25 07:29:41</td>\n",
       "      <td>0</td>\n",
       "      <td>1885</td>\n",
       "      <td>machine-learning,python,data,data-analysis,ana...</td>\n",
       "      <td>1</td>\n",
       "      <td>0</td>\n",
       "    </tr>\n",
       "  </tbody>\n",
       "</table>\n",
       "</div>"
      ],
      "text/plain": [
       "      Id  PostTypeId        CreationDate  Score  ViewCount  \\\n",
       "0  54432           1 2019-06-25 06:46:58      0         44   \n",
       "1  54433           1 2019-06-25 07:04:37      1         38   \n",
       "2  54434           2 2019-06-25 07:10:30      1          0   \n",
       "3  54435           2 2019-06-25 07:11:14      0          0   \n",
       "4  54436           1 2019-06-25 07:29:41      0       1885   \n",
       "\n",
       "                                                Tags  AnswerCount  \\\n",
       "0           neural-network,classification,regression            0   \n",
       "1     neural-network,predictive-modeling,correlation            1   \n",
       "2                                                               0   \n",
       "3                                                               0   \n",
       "4  machine-learning,python,data,data-analysis,ana...            1   \n",
       "\n",
       "   FavoriteCount  \n",
       "0              0  \n",
       "1              0  \n",
       "2              0  \n",
       "3              0  \n",
       "4              0  "
      ]
     },
     "execution_count": 39,
     "metadata": {},
     "output_type": "execute_result"
    }
   ],
   "source": [
    "query.head()"
   ]
  },
  {
   "cell_type": "code",
   "execution_count": 30,
   "metadata": {
    "scrolled": true
   },
   "outputs": [],
   "source": [
    "query['ViewCount'] = query['ViewCount'].astype(int)\n",
    "query['AnswerCount'] = query['AnswerCount'].astype(int)\n",
    "query['FavoriteCount'] = query['FavoriteCount'].astype(int)\n",
    "query['CreationDate'] =  pd.to_datetime(query['CreationDate'])"
   ]
  },
  {
   "cell_type": "code",
   "execution_count": 31,
   "metadata": {},
   "outputs": [
    {
     "name": "stdout",
     "output_type": "stream",
     "text": [
      "<class 'pandas.core.frame.DataFrame'>\n",
      "RangeIndex: 16534 entries, 0 to 16533\n",
      "Data columns (total 8 columns):\n",
      " #   Column         Non-Null Count  Dtype         \n",
      "---  ------         --------------  -----         \n",
      " 0   Id             16534 non-null  int64         \n",
      " 1   PostTypeId     16534 non-null  int64         \n",
      " 2   CreationDate   16534 non-null  datetime64[ns]\n",
      " 3   Score          16534 non-null  int64         \n",
      " 4   ViewCount      16534 non-null  int64         \n",
      " 5   Tags           8568 non-null   object        \n",
      " 6   AnswerCount    16534 non-null  int64         \n",
      " 7   FavoriteCount  16534 non-null  int64         \n",
      "dtypes: datetime64[ns](1), int64(6), object(1)\n",
      "memory usage: 1.0+ MB\n"
     ]
    }
   ],
   "source": [
    "query.info()"
   ]
  },
  {
   "cell_type": "code",
   "execution_count": 56,
   "metadata": {
    "scrolled": true
   },
   "outputs": [
    {
     "data": {
      "text/plain": [
       "0        None\n",
       "1        None\n",
       "2        None\n",
       "3        None\n",
       "4        None\n",
       "         ... \n",
       "16529    None\n",
       "16530    None\n",
       "16531    None\n",
       "16532    None\n",
       "16533    None\n",
       "Length: 16534, dtype: object"
      ]
     },
     "execution_count": 56,
     "metadata": {},
     "output_type": "execute_result"
    }
   ],
   "source": [
    "tags_used = dict()\n",
    "tags_viewed = dict()\n",
    "\n",
    "def count_tags(row):\n",
    "    tag_list = row['Tags'].split(',')\n",
    "    for tag in tag_list:\n",
    "        if tag in tags_used:\n",
    "            tags_used[tag] += 1\n",
    "            tags_viewed[tag] += row['ViewCount']\n",
    "        else:\n",
    "            tags_used[tag] = 1\n",
    "            tags_viewed[tag] = row['ViewCount']\n",
    "\n",
    "query.apply(count_tags, axis=1)"
   ]
  },
  {
   "cell_type": "code",
   "execution_count": 140,
   "metadata": {},
   "outputs": [],
   "source": [
    "tags_used_df = pd.DataFrame.from_dict(tags_used, orient='index', columns=['Used']).sort_values(by='Used', \n",
    "                                                                                               ascending=False)\n",
    "# tags_used\n",
    "# print(tags_viewed)"
   ]
  },
  {
   "cell_type": "code",
   "execution_count": 109,
   "metadata": {
    "scrolled": false
   },
   "outputs": [
    {
     "data": {
      "text/plain": [
       "<matplotlib.axes._subplots.AxesSubplot at 0x7fad3a6f0208>"
      ]
     },
     "execution_count": 109,
     "metadata": {},
     "output_type": "execute_result"
    },
    {
     "data": {
      "image/png": "[encoded data removed]",
      "text/plain": [
       "<Figure size 720x432 with 1 Axes>"
      ]
     },
     "metadata": {
      "needs_background": "light"
     },
     "output_type": "display_data"
    }
   ],
   "source": [
    "import matplotlib.pyplot as plt\n",
    "\n",
    "tags_used_df.iloc[:20].plot(kind='bar', figsize=(10,6))"
   ]
  },
  {
   "cell_type": "code",
   "execution_count": 141,
   "metadata": {},
   "outputs": [],
   "source": [
    "tags_viewed_df = pd.DataFrame.from_dict(tags_viewed, orient='index', columns=['Viewed']).sort_values(by='Viewed', \n",
    "                                                                                                     ascending=False)"
   ]
  },
  {
   "cell_type": "code",
   "execution_count": 108,
   "metadata": {
    "scrolled": false
   },
   "outputs": [
    {
     "data": {
      "text/plain": [
       "<matplotlib.axes._subplots.AxesSubplot at 0x7fad3a752588>"
      ]
     },
     "execution_count": 108,
     "metadata": {},
     "output_type": "execute_result"
    },
    {
     "data": {
      "image/png": "[encoded data removed]",
      "text/plain": [
       "<Figure size 720x432 with 1 Axes>"
      ]
     },
     "metadata": {
      "needs_background": "light"
     },
     "output_type": "display_data"
    }
   ],
   "source": [
    "tags_viewed_df.iloc[:20].plot(kind='bar', figsize=(10,6))"
   ]
  },
  {
   "cell_type": "code",
   "execution_count": 142,
   "metadata": {},
   "outputs": [],
   "source": [
    "in_used = pd.merge(tags_used_df.iloc[:20], tags_viewed_df.iloc[:20], how=\"left\", left_index=True, right_index=True)"
   ]
  },
  {
   "cell_type": "code",
   "execution_count": 143,
   "metadata": {},
   "outputs": [],
   "source": [
    "in_used.loc[['r', 'predictive-modeling', 'clustering', 'statistics', \n",
    "             'machine-learning-model'], 'Viewed'] = tags_viewed_df.loc[['r', 'predictive-modeling', \n",
    "                                                                        'clustering', 'statistics', \n",
    "                                                                        'machine-learning-model'], 'Viewed']"
   ]
  },
  {
   "cell_type": "code",
   "execution_count": 144,
   "metadata": {},
   "outputs": [
    {
     "data": {
      "text/html": [
       "<div>\n",
       "<style scoped>\n",
       "    .dataframe tbody tr th:only-of-type {\n",
       "        vertical-align: middle;\n",
       "    }\n",
       "\n",
       "    .dataframe tbody tr th {\n",
       "        vertical-align: top;\n",
       "    }\n",
       "\n",
       "    .dataframe thead th {\n",
       "        text-align: right;\n",
       "    }\n",
       "</style>\n",
       "<table border=\"1\" class=\"dataframe\">\n",
       "  <thead>\n",
       "    <tr style=\"text-align: right;\">\n",
       "      <th></th>\n",
       "      <th>Used</th>\n",
       "      <th>Viewed</th>\n",
       "    </tr>\n",
       "  </thead>\n",
       "  <tbody>\n",
       "    <tr>\n",
       "      <th>machine-learning</th>\n",
       "      <td>2621</td>\n",
       "      <td>521118.0</td>\n",
       "    </tr>\n",
       "    <tr>\n",
       "      <th>python</th>\n",
       "      <td>1766</td>\n",
       "      <td>765760.0</td>\n",
       "    </tr>\n",
       "    <tr>\n",
       "      <th>deep-learning</th>\n",
       "      <td>1173</td>\n",
       "      <td>309666.0</td>\n",
       "    </tr>\n",
       "    <tr>\n",
       "      <th>neural-network</th>\n",
       "      <td>1032</td>\n",
       "      <td>250725.0</td>\n",
       "    </tr>\n",
       "    <tr>\n",
       "      <th>keras</th>\n",
       "      <td>913</td>\n",
       "      <td>363772.0</td>\n",
       "    </tr>\n",
       "    <tr>\n",
       "      <th>classification</th>\n",
       "      <td>666</td>\n",
       "      <td>138442.0</td>\n",
       "    </tr>\n",
       "    <tr>\n",
       "      <th>tensorflow</th>\n",
       "      <td>569</td>\n",
       "      <td>169772.0</td>\n",
       "    </tr>\n",
       "    <tr>\n",
       "      <th>scikit-learn</th>\n",
       "      <td>527</td>\n",
       "      <td>178536.0</td>\n",
       "    </tr>\n",
       "    <tr>\n",
       "      <th>nlp</th>\n",
       "      <td>480</td>\n",
       "      <td>99381.0</td>\n",
       "    </tr>\n",
       "    <tr>\n",
       "      <th>cnn</th>\n",
       "      <td>475</td>\n",
       "      <td>97094.0</td>\n",
       "    </tr>\n",
       "    <tr>\n",
       "      <th>time-series</th>\n",
       "      <td>445</td>\n",
       "      <td>87789.0</td>\n",
       "    </tr>\n",
       "    <tr>\n",
       "      <th>lstm</th>\n",
       "      <td>383</td>\n",
       "      <td>99150.0</td>\n",
       "    </tr>\n",
       "    <tr>\n",
       "      <th>pandas</th>\n",
       "      <td>346</td>\n",
       "      <td>314896.0</td>\n",
       "    </tr>\n",
       "    <tr>\n",
       "      <th>regression</th>\n",
       "      <td>338</td>\n",
       "      <td>64726.0</td>\n",
       "    </tr>\n",
       "    <tr>\n",
       "      <th>dataset</th>\n",
       "      <td>326</td>\n",
       "      <td>57619.0</td>\n",
       "    </tr>\n",
       "    <tr>\n",
       "      <th>r</th>\n",
       "      <td>264</td>\n",
       "      <td>46834.0</td>\n",
       "    </tr>\n",
       "    <tr>\n",
       "      <th>predictive-modeling</th>\n",
       "      <td>261</td>\n",
       "      <td>21142.0</td>\n",
       "    </tr>\n",
       "    <tr>\n",
       "      <th>clustering</th>\n",
       "      <td>257</td>\n",
       "      <td>45174.0</td>\n",
       "    </tr>\n",
       "    <tr>\n",
       "      <th>statistics</th>\n",
       "      <td>227</td>\n",
       "      <td>23712.0</td>\n",
       "    </tr>\n",
       "    <tr>\n",
       "      <th>machine-learning-model</th>\n",
       "      <td>219</td>\n",
       "      <td>31497.0</td>\n",
       "    </tr>\n",
       "  </tbody>\n",
       "</table>\n",
       "</div>"
      ],
      "text/plain": [
       "                        Used    Viewed\n",
       "machine-learning        2621  521118.0\n",
       "python                  1766  765760.0\n",
       "deep-learning           1173  309666.0\n",
       "neural-network          1032  250725.0\n",
       "keras                    913  363772.0\n",
       "classification           666  138442.0\n",
       "tensorflow               569  169772.0\n",
       "scikit-learn             527  178536.0\n",
       "nlp                      480   99381.0\n",
       "cnn                      475   97094.0\n",
       "time-series              445   87789.0\n",
       "lstm                     383   99150.0\n",
       "pandas                   346  314896.0\n",
       "regression               338   64726.0\n",
       "dataset                  326   57619.0\n",
       "r                        264   46834.0\n",
       "predictive-modeling      261   21142.0\n",
       "clustering               257   45174.0\n",
       "statistics               227   23712.0\n",
       "machine-learning-model   219   31497.0"
      ]
     },
     "execution_count": 144,
     "metadata": {},
     "output_type": "execute_result"
    }
   ],
   "source": [
    "in_used"
   ]
  }
 ],
 "metadata": {
  "kernelspec": {
   "display_name": "Python 3",
   "language": "python",
   "name": "python3"
  },
  "language_info": {
   "codemirror_mode": {
    "name": "ipython",
    "version": 3
   },
   "file_extension": ".py",
   "mimetype": "text/x-python",
   "name": "python",
   "nbconvert_exporter": "python",
   "pygments_lexer": "ipython3",
   "version": "3.6.8"
  }
 },
 "nbformat": 4,
 "nbformat_minor": 2
}
